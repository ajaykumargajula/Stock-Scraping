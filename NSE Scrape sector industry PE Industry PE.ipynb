{
 "cells": [
  {
   "cell_type": "code",
   "execution_count": 1,
   "id": "3197c03b",
   "metadata": {},
   "outputs": [],
   "source": [
    "import selenium\n",
    "import pandas as pd\n",
    "from selenium import webdriver\n",
    "from selenium.webdriver.chrome.options import Options\n",
    "from selenium.webdriver.support.ui import WebDriverWait\n",
    "from selenium.webdriver.chrome.service import Service\n",
    "from webdriver_manager.chrome import ChromeDriverManager\n",
    "from selenium.webdriver.common.by import By\n",
    "from selenium.webdriver.support import expected_conditions as EC\n",
    "#import subprocess\n",
    "import warnings\n",
    "warnings.filterwarnings('ignore')\n",
    "import numpy as np"
   ]
  },
  {
   "cell_type": "code",
   "execution_count": 2,
   "id": "07bf1a1f",
   "metadata": {},
   "outputs": [],
   "source": [
    "tickers = pd.read_csv('https://archives.nseindia.com/content/equities/EQUITY_L.csv',usecols=['SYMBOL'])"
   ]
  },
  {
   "cell_type": "code",
   "execution_count": 7,
   "id": "9a123bdd",
   "metadata": {},
   "outputs": [],
   "source": [
    "sec ={}\n",
    "for i in dfm.iterrows():\n",
    "    options = Options()\n",
    "    options.add_argument(\"start-maximized\")\n",
    "    options.add_argument(\"--no-sandbox\")\n",
    "    options.add_argument(\"--disable-setuid-sandbox\")\n",
    "    driver = webdriver.Chrome(\"C:/webdriver/chromedriver\",options=options)\n",
    "    driver.get(\"https://www.nseindia.com/get-quotes/equity?symbol=\"+i[1][0].replace(\"&\",\"%26\"))\n",
    "    try:\n",
    "        Basic_Industry = WebDriverWait(driver, 100).until(EC.element_to_be_clickable((By.XPATH, '//*[@id=\"equityInfo\"]/tbody/tr/td[6]'))).text\n",
    "        \n",
    "    except:\n",
    "         Basic_Industry ='NA'\n",
    "    try:\n",
    "        Symbol_PE = driver.find_element(By.XPATH,'//*[@id=\"equityInfo\"]/tbody/tr/td[7]').text\n",
    "    except:\n",
    "        Symbol_PE = 'NA'\n",
    "\n",
    "    try:\n",
    "        SectoralIndex_PE = driver.find_element(By.XPATH,'//*[@id=\"equityInfo\"]/tbody/tr/td[8]').text\n",
    "    except:\n",
    "        SectoralIndex_PE ='NA'\n",
    "    try:\n",
    "        SectoralIndex = driver.find_element(By.XPATH,'//*[@id=\"equityInfo\"]/tbody/tr/td[9]').text\n",
    "    except:\n",
    "        SectoralIndex = 'NA'\n",
    "    sec[i[1][0]] = {\"Basic_Industry\":Basic_Industry,\"Symbol_PE\":Symbol_PE,\"SectoralIndex_PE\":SectoralIndex_PE,\"SectoralIndex\":SectoralIndex}\n",
    "    WebDriverWait(driver, 10)\n",
    "    driver.quit()"
   ]
  },
  {
   "cell_type": "code",
   "execution_count": 36,
   "id": "77783861",
   "metadata": {},
   "outputs": [],
   "source": [
    "df = pd.read_csv('nse_sectors_pe.csv',index_col=0)"
   ]
  },
  {
   "cell_type": "code",
   "execution_count": 37,
   "id": "064948bf",
   "metadata": {},
   "outputs": [],
   "source": [
    "dfm = df[(df['Basic_Industry'].isna())&(df['Symbol_PE'].isna())]"
   ]
  },
  {
   "cell_type": "code",
   "execution_count": 40,
   "id": "6f948228",
   "metadata": {},
   "outputs": [
    {
     "data": {
      "text/html": [
       "<div>\n",
       "<style scoped>\n",
       "    .dataframe tbody tr th:only-of-type {\n",
       "        vertical-align: middle;\n",
       "    }\n",
       "\n",
       "    .dataframe tbody tr th {\n",
       "        vertical-align: top;\n",
       "    }\n",
       "\n",
       "    .dataframe thead th {\n",
       "        text-align: right;\n",
       "    }\n",
       "</style>\n",
       "<table border=\"1\" class=\"dataframe\">\n",
       "  <thead>\n",
       "    <tr style=\"text-align: right;\">\n",
       "      <th></th>\n",
       "      <th>Basic_Industry</th>\n",
       "      <th>Symbol_PE</th>\n",
       "      <th>SectoralIndex_PE</th>\n",
       "      <th>SectoralIndex</th>\n",
       "    </tr>\n",
       "    <tr>\n",
       "      <th>index</th>\n",
       "      <th></th>\n",
       "      <th></th>\n",
       "      <th></th>\n",
       "      <th></th>\n",
       "    </tr>\n",
       "  </thead>\n",
       "  <tbody>\n",
       "    <tr>\n",
       "      <th>VLIFEPP</th>\n",
       "      <td>NaN</td>\n",
       "      <td>NaN</td>\n",
       "      <td>NaN</td>\n",
       "      <td>NaN</td>\n",
       "    </tr>\n",
       "    <tr>\n",
       "      <th>DRCSYSTEMS</th>\n",
       "      <td>NaN</td>\n",
       "      <td>NaN</td>\n",
       "      <td>NaN</td>\n",
       "      <td>NaN</td>\n",
       "    </tr>\n",
       "    <tr>\n",
       "      <th>ESSENTIA</th>\n",
       "      <td>NaN</td>\n",
       "      <td>NaN</td>\n",
       "      <td>NaN</td>\n",
       "      <td>NaN</td>\n",
       "    </tr>\n",
       "    <tr>\n",
       "      <th>KEEPLEARN</th>\n",
       "      <td>NaN</td>\n",
       "      <td>NaN</td>\n",
       "      <td>NaN</td>\n",
       "      <td>NaN</td>\n",
       "    </tr>\n",
       "    <tr>\n",
       "      <th>S&amp;SPOWER</th>\n",
       "      <td>NaN</td>\n",
       "      <td>NaN</td>\n",
       "      <td>NaN</td>\n",
       "      <td>NaN</td>\n",
       "    </tr>\n",
       "    <tr>\n",
       "      <th>STARTECK</th>\n",
       "      <td>NaN</td>\n",
       "      <td>NaN</td>\n",
       "      <td>NaN</td>\n",
       "      <td>NaN</td>\n",
       "    </tr>\n",
       "  </tbody>\n",
       "</table>\n",
       "</div>"
      ],
      "text/plain": [
       "           Basic_Industry Symbol_PE  SectoralIndex_PE SectoralIndex\n",
       "index                                                              \n",
       "VLIFEPP               NaN       NaN               NaN           NaN\n",
       "DRCSYSTEMS            NaN       NaN               NaN           NaN\n",
       "ESSENTIA              NaN       NaN               NaN           NaN\n",
       "KEEPLEARN             NaN       NaN               NaN           NaN\n",
       "S&SPOWER              NaN       NaN               NaN           NaN\n",
       "STARTECK              NaN       NaN               NaN           NaN"
      ]
     },
     "execution_count": 40,
     "metadata": {},
     "output_type": "execute_result"
    }
   ],
   "source": [
    "dfm"
   ]
  },
  {
   "cell_type": "code",
   "execution_count": null,
   "id": "159dd467",
   "metadata": {},
   "outputs": [],
   "source": []
  },
  {
   "cell_type": "code",
   "execution_count": null,
   "id": "33464395",
   "metadata": {},
   "outputs": [],
   "source": []
  },
  {
   "cell_type": "code",
   "execution_count": 1,
   "id": "581569a9",
   "metadata": {},
   "outputs": [],
   "source": [
    "import requests\n",
    "i='COALINDIA'\n",
    "nse_headers={\n",
    "    \"authority\": \"www.nseindia.com\",\n",
    "\"method\": \"GET\",\n",
    "\"path\": \"/api/equity-meta-info?symbol=\"+i,\n",
    "\"scheme\": \"https\",\n",
    "\"accept\": \"*/*\",\n",
    "\"accept-encoding\": \"gzip, deflate, br\",\n",
    "\"accept-language\": \"en-US,en;q=0.9\",\n",
    "\"referer\": \"https://www.nseindia.com/get-quotes/equity?symbol=\"+i,\n",
    "\"sec-ch-ua\": \"' Not A;Brand';v='99, 'Chromium';v='100', 'Google Chrome';v='100'\",\n",
    "\"sec-ch-ua-mobile\": \"?0\",\n",
    "\"sec-ch-ua-platform\": \"'Windows'\",\n",
    "\"sec-fetch-dest\": \"empty\",\n",
    "\"sec-fetch-mode\": \"cors\",\n",
    "\"sec-fetch-site\": \"same-origin\",\n",
    "\"user-agent\": \"Mozilla/5.0 (Windows NT 10.0; Win64; x64) AppleWebKit/537.36 (KHTML, like Gecko) Chrome/100.0.4896.127 Safari/537.36\"\n",
    "}\n"
   ]
  },
  {
   "cell_type": "code",
   "execution_count": null,
   "id": "ebc33053",
   "metadata": {},
   "outputs": [],
   "source": []
  },
  {
   "cell_type": "code",
   "execution_count": null,
   "id": "ae2b77fe",
   "metadata": {},
   "outputs": [],
   "source": []
  },
  {
   "cell_type": "code",
   "execution_count": null,
   "id": "3301dd2d",
   "metadata": {},
   "outputs": [],
   "source": []
  },
  {
   "cell_type": "code",
   "execution_count": null,
   "id": "5f7470e8",
   "metadata": {},
   "outputs": [],
   "source": []
  },
  {
   "cell_type": "code",
   "execution_count": null,
   "id": "e47843f0",
   "metadata": {},
   "outputs": [],
   "source": []
  }
 ],
 "metadata": {
  "kernelspec": {
   "display_name": "Python 3 (ipykernel)",
   "language": "python",
   "name": "python3"
  },
  "language_info": {
   "codemirror_mode": {
    "name": "ipython",
    "version": 3
   },
   "file_extension": ".py",
   "mimetype": "text/x-python",
   "name": "python",
   "nbconvert_exporter": "python",
   "pygments_lexer": "ipython3",
   "version": "3.9.7"
  }
 },
 "nbformat": 4,
 "nbformat_minor": 5
}
